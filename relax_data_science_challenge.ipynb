{
 "cells": [
  {
   "cell_type": "markdown",
   "metadata": {},
   "source": [
    "# Relax Data Science Challenge\n",
    "****\n",
    "This is a simple take home challenge in which I am tasked with finding which factors predict engagement. One of the supplied csv's provides the features or factors, while the other one will be used to define the target variable.\n",
    "\n",
    "Once we have cleaned the data we will use correllation and xgboost to find feature importance."
   ]
  },
  {
   "cell_type": "code",
   "execution_count": 36,
   "metadata": {},
   "outputs": [],
   "source": [
    "# data analysis and wrangling\n",
    "import pandas as pd\n",
    "import numpy as np\n",
    "import datetime\n",
    "import math\n",
    "import json\n",
    "\n",
    "# visualization\n",
    "import matplotlib.pyplot as plt\n",
    "from matplotlib import pyplot\n",
    "%matplotlib inline\n",
    "\n",
    "# feature prediction\n",
    "import xgboost as xgb\n",
    "from xgboost import XGBClassifier\n",
    "from xgboost import plot_importance\n",
    "from sklearn.preprocessing import LabelEncoder"
   ]
  },
  {
   "cell_type": "code",
   "execution_count": 22,
   "metadata": {},
   "outputs": [],
   "source": [
    "users = pd.read_csv('./data/takehome_users.csv', encoding = \"ISO-8859-1\")\n",
    "engagement = pd.read_csv('./data/takehome_user_engagement.csv', encoding = \"ISO-8859-1\")\n",
    "engagement['time_stamp'] = engagement['time_stamp'].str.split(' ',expand=True)[0]\n",
    "engagement['time_stamp'] = pd.to_datetime(engagement['time_stamp'])"
   ]
  },
  {
   "cell_type": "markdown",
   "metadata": {},
   "source": [
    "## Data Cleaning\n",
    "****\n",
    "First we will create our target variable, \"engaged,\" which is if a user logged in during three days within a 7 day period. We will do this with a rather slow but straight forward counting loop.\n",
    "\n",
    "Note: We are counting this over a \"rolling\" 7 day period rather than a defined calendar week."
   ]
  },
  {
   "cell_type": "code",
   "execution_count": 23,
   "metadata": {},
   "outputs": [],
   "source": [
    "# The slow approach\n",
    "users['engaged'] = 0\n",
    "for i in users.index:\n",
    "    user_df = engagement[engagement['user_id'] == i+1] # the object_id is always 1 greater than the index\n",
    "    # We only count daily logins once, so multiple logins per day have to be aggregated.\n",
    "    user_df = user_df.groupby('time_stamp').mean().reset_index() \n",
    "    max_week = 0\n",
    "    for time in user_df['time_stamp']:\n",
    "        # This counts the number of entries that occur within 7 subsequent days\n",
    "        visits = len(user_df[(user_df['time_stamp'] <= time + datetime.timedelta(days=7)) & # upper limit\n",
    "                             (user_df['time_stamp'] >= time)]) # lower limit\n",
    "        # if we get 3, we update and break the loop\n",
    "        if visits >= 3:\n",
    "            users.at[i, 'engaged'] = 1\n",
    "            break\n",
    "        \n",
    "users = users.set_index('object_id').drop(['name', 'email'], axis = 1) #name and email are not relevant"
   ]
  },
  {
   "cell_type": "markdown",
   "metadata": {},
   "source": [
    "Here we will clean our data and fill in null values."
   ]
  },
  {
   "cell_type": "code",
   "execution_count": 24,
   "metadata": {},
   "outputs": [],
   "source": [
    "le = LabelEncoder()\n",
    "# Fill null values\n",
    "users['invited_by_user_id'].fillna(0, inplace=True) # use a user_id of 0 for those who are not referred\n",
    "users['invited_by_user_id'] = users['invited_by_user_id'].astype(int)\n",
    "\n",
    "# create a feature that give the age of the account\n",
    "users['last_session_creation_time'] = pd.to_datetime(users['last_session_creation_time'], unit='s')\n",
    "users['creation_time'] = pd.to_datetime(users['creation_time'])\n",
    "# If last session is blank then assume they never returned and creation was last session\n",
    "users['last_session_creation_time'].fillna(users['creation_time'], inplace=True)\n",
    "users['account_age'] = users['last_session_creation_time'] - users['creation_time']\n",
    "users['account_age'] = users['account_age'].dt.days\n",
    "#users = users.drop(['creation_time', 'last_session_creation_time']) # with account_age, we wont need these\n",
    "\n",
    "# convert creation_source to categorical int\n",
    "users['creation_source'] = le.fit_transform(users['creation_source'])"
   ]
  },
  {
   "cell_type": "markdown",
   "metadata": {},
   "source": [
    "Lets deal more with org_id. This is a categorical variable but it has many categories. Lets see if we can't bin some of them."
   ]
  },
  {
   "cell_type": "code",
   "execution_count": 41,
   "metadata": {},
   "outputs": [],
   "source": [
    "series_1 = pd.value_counts(users['org_id'])\n",
    "mask_1 = (series_1/series_1.sum() * 950).lt(1)\n",
    "users['org_adj'] = np.where(users['org_id'].isin(series_1[mask_1].index),5000,users['org_id'])"
   ]
  },
  {
   "cell_type": "markdown",
   "metadata": {},
   "source": [
    "## XgBoost feature importance"
   ]
  },
  {
   "cell_type": "code",
   "execution_count": 40,
   "metadata": {},
   "outputs": [
    {
     "data": {
      "image/png": "[encoded data removed]",
      "text/plain": [
       "<Figure size 576x576 with 1 Axes>"
      ]
     },
     "metadata": {
      "needs_background": "light"
     },
     "output_type": "display_data"
    }
   ],
   "source": [
    "train_y = users['engaged'].values\n",
    "df_train = users.drop(['engaged', 'creation_time', 'last_session_creation_time'], axis=1)\n",
    "feat_names = df_train.columns.values\n",
    "\n",
    "#import xgboost as xgb\n",
    "xgb_params = {\n",
    "    'eta': 0.05,\n",
    "    'max_depth': 8,\n",
    "    'subsample': 0.7,\n",
    "    'colsample_bytree': 0.7,\n",
    "    'objective': 'reg:linear',\n",
    "    'silent': 1,\n",
    "    'seed' : 0\n",
    "}\n",
    "dtrain = xgb.DMatrix(df_train, train_y, feature_names=df_train.columns.values)\n",
    "model = xgb.train(dict(xgb_params), dtrain, num_boost_round=50)\n",
    "\n",
    "# plot the important features #\n",
    "fig, ax = plt.subplots(figsize=(8,8))\n",
    "xgb.plot_importance(model, max_num_features=50, height=0.8, ax=ax)\n",
    "plt.show()"
   ]
  },
  {
   "cell_type": "markdown",
   "metadata": {},
   "source": [
    "## Conclusions\n",
    "****\n",
    "Here we can see that the organization the person belongs to and whether or not they were invited have a very large effect on if they become \"adopted.\" Meanwhile, mailing lists and marketting drips do not.\n",
    "\n",
    "We also observe that our modified org_adj which combined the smallest orgs into one was less important than the original one and so doesnt need to be included.\n",
    "\n",
    "Account age also shows some importance as well. This is to be expected as the longer a user is around the more likely it is they will use it multiple times in one week."
   ]
  },
  {
   "cell_type": "code",
   "execution_count": null,
   "metadata": {},
   "outputs": [],
   "source": []
  }
 ],
 "metadata": {
  "kernelspec": {
   "display_name": "Python 3",
   "language": "python",
   "name": "python3"
  },
  "language_info": {
   "codemirror_mode": {
    "name": "ipython",
    "version": 3
   },
   "file_extension": ".py",
   "mimetype": "text/x-python",
   "name": "python",
   "nbconvert_exporter": "python",
   "pygments_lexer": "ipython3",
   "version": "3.6.6"
  }
 },
 "nbformat": 4,
 "nbformat_minor": 2
}
